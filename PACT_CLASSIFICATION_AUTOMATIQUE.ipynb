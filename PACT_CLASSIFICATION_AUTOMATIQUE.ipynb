{
 "cells": [
  {
   "cell_type": "markdown",
   "metadata": {},
   "source": [
    "## PACT 4.2 - K-Means Clustering & Louvain Community Detection\n",
    "\n",
    "For our PACT project, we planned to implement an unsupervised machine learning in order to automatically classify our users based on 3 criteria : total number of parties (party_nb), interactions with other user (social_score), and the alcohol intake(alcohol_unit). \n",
    "\n",
    "#### Recap from last meeting with our expert : \n",
    "1. Try Louvain to classify the users by their interactions.  \n",
    "2. Try K-Means to classify the users by certain criteria. \n",
    "\n",
    "`This notebook contains 2 parts : Clustering K-Means & Louvain Community Detection`\n",
    "\n",
    "#### K-Means Explanation : \n",
    "1. First of all, I have generated a CSV file that contains 200 users (they are all random value as we couldn't find time to hold a party :( ). \n",
    "2. I packed the data into a panda dataframe. \n",
    "3. Then, I decide the number of clusters based on the \"ELBOW\". \n",
    "4. Finally, I use scikit-learn K-Means library to for clustering. \n",
    "\n",
    "#### Louvain Community Detection  Explanation : \n",
    "1. Firstly, I generate a 2-dimensionnal matrix to represent the interaction. \n",
    "2. Then, I draw a graph based on the matrix. \n",
    "3. Finally, I calculate the partition. "
   ]
  },
  {
   "cell_type": "markdown",
   "metadata": {},
   "source": [
    "## K-Means "
   ]
  },
  {
   "cell_type": "code",
   "execution_count": 16,
   "metadata": {},
   "outputs": [],
   "source": [
    "%matplotlib inline\n",
    "\n",
    "import pandas as pd\n",
    "import matplotlib.pyplot as plt\n",
    "from sklearn import preprocessing\n",
    "from sklearn.cluster import KMeans"
   ]
  },
  {
   "cell_type": "markdown",
   "metadata": {},
   "source": [
    "### Read the CSV \n",
    "This will be replace by the Android Application Database during integration."
   ]
  },
  {
   "cell_type": "code",
   "execution_count": 17,
   "metadata": {},
   "outputs": [
    {
     "data": {
      "text/html": [
       "<div>\n",
       "<style scoped>\n",
       "    .dataframe tbody tr th:only-of-type {\n",
       "        vertical-align: middle;\n",
       "    }\n",
       "\n",
       "    .dataframe tbody tr th {\n",
       "        vertical-align: top;\n",
       "    }\n",
       "\n",
       "    .dataframe thead th {\n",
       "        text-align: right;\n",
       "    }\n",
       "</style>\n",
       "<table border=\"1\" class=\"dataframe\">\n",
       "  <thead>\n",
       "    <tr style=\"text-align: right;\">\n",
       "      <th></th>\n",
       "      <th></th>\n",
       "      <th>party_nb</th>\n",
       "      <th>social_score</th>\n",
       "      <th>alcohol_unit</th>\n",
       "    </tr>\n",
       "  </thead>\n",
       "  <tbody>\n",
       "    <tr>\n",
       "      <td>1</td>\n",
       "      <td>JoeIng</td>\n",
       "      <td>30</td>\n",
       "      <td>0,123893039</td>\n",
       "      <td>2</td>\n",
       "    </tr>\n",
       "    <tr>\n",
       "      <td>2</td>\n",
       "      <td>Bernard</td>\n",
       "      <td>56</td>\n",
       "      <td>0,707285916</td>\n",
       "      <td>12</td>\n",
       "    </tr>\n",
       "    <tr>\n",
       "      <td>3</td>\n",
       "      <td>Thomas</td>\n",
       "      <td>41</td>\n",
       "      <td>0,735162233</td>\n",
       "      <td>25</td>\n",
       "    </tr>\n",
       "    <tr>\n",
       "      <td>4</td>\n",
       "      <td>Petit</td>\n",
       "      <td>11</td>\n",
       "      <td>0,443041305</td>\n",
       "      <td>8</td>\n",
       "    </tr>\n",
       "    <tr>\n",
       "      <td>5</td>\n",
       "      <td>Robert</td>\n",
       "      <td>20</td>\n",
       "      <td>0,481910074</td>\n",
       "      <td>25</td>\n",
       "    </tr>\n",
       "  </tbody>\n",
       "</table>\n",
       "</div>"
      ],
      "text/plain": [
       "           party_nb social_score  alcohol_unit\n",
       "1 JoeIng         30  0,123893039             2\n",
       "2 Bernard        56  0,707285916            12\n",
       "3 Thomas         41  0,735162233            25\n",
       "4 Petit          11  0,443041305             8\n",
       "5 Robert         20  0,481910074            25"
      ]
     },
     "execution_count": 17,
     "metadata": {},
     "output_type": "execute_result"
    }
   ],
   "source": [
    "dataset1 = pd.read_csv('./pact.csv', delimiter=';',names=['party_nb', 'social_score', 'alcohol_unit'])\n",
    "dataset1.head()"
   ]
  },
  {
   "cell_type": "markdown",
   "metadata": {},
   "source": [
    "### Show the type and shape of dataset\n",
    "We have 200 users and 3 features in the dataset.\n",
    "The datatype is a Panda DataFrame."
   ]
  },
  {
   "cell_type": "code",
   "execution_count": 18,
   "metadata": {},
   "outputs": [
    {
     "name": "stdout",
     "output_type": "stream",
     "text": [
      "(200, 3)\n"
     ]
    },
    {
     "data": {
      "text/plain": [
       "pandas.core.frame.DataFrame"
      ]
     },
     "execution_count": 18,
     "metadata": {},
     "output_type": "execute_result"
    }
   ],
   "source": [
    "print(dataset1.shape)\n",
    "type(dataset1)"
   ]
  },
  {
   "cell_type": "code",
   "execution_count": 19,
   "metadata": {},
   "outputs": [],
   "source": [
    "number = preprocessing.LabelEncoder()\n",
    "dataset1['party_nb'] = number.fit_transform(dataset1['party_nb'])\n",
    "dataset1=dataset1.fillna(-999) # fill holes with default value\n",
    "#print(dataset1.describe(include='all'))\n",
    "dataset1['social_score'] = number.fit_transform(dataset1['social_score'])\n",
    "dataset1=dataset1.fillna(-999) # fill holes with default value\n",
    "#print(dataset1.describe(include='all'))\n",
    "dataset1['alcohol_unit'] = number.fit_transform(dataset1['alcohol_unit'])\n",
    "dataset1=dataset1.fillna(-999) # fill holes with default value\n",
    "#print(dataset1.describe(include='all'))\n",
    "dataset1.describe()\n",
    "\n",
    "dataset1_standardized = preprocessing.scale(dataset1)\n",
    "dataset1_standardized = pd.DataFrame(dataset1_standardized)"
   ]
  },
  {
   "cell_type": "markdown",
   "metadata": {},
   "source": [
    "### Find the appropriate cluster number by the elbow method\n",
    "We see that 2 or 3 is the optimal number of clusters."
   ]
  },
  {
   "cell_type": "code",
   "execution_count": 20,
   "metadata": {},
   "outputs": [
    {
     "data": {
      "image/png": "[encoded data removed]",
      "text/plain": [
       "<Figure size 864x576 with 1 Axes>"
      ]
     },
     "metadata": {
      "needs_background": "light"
     },
     "output_type": "display_data"
    }
   ],
   "source": [
    "# find the appropriate cluster number\n",
    "plt.figure(figsize=(12, 8))\n",
    "wcss = [] #summation of the each clusters distance between that specific clusters each points against the cluster centroid\n",
    "for i in range(1, 11):\n",
    "    kmeans = KMeans(n_clusters = i)\n",
    "    kmeans.fit(dataset1_standardized)\n",
    "    wcss.append(kmeans.inertia_)\n",
    "plt.plot(range(1, 11), wcss)\n",
    "plt.title('The Elbow Method')\n",
    "plt.xlabel('Number of clusters')\n",
    "plt.ylabel('WCSS')\n",
    "plt.show()"
   ]
  },
  {
   "cell_type": "markdown",
   "metadata": {},
   "source": [
    "### Fitting K-Means to the dataset"
   ]
  },
  {
   "cell_type": "code",
   "execution_count": 21,
   "metadata": {},
   "outputs": [
    {
     "name": "stdout",
     "output_type": "stream",
     "text": [
      "200\n"
     ]
    },
    {
     "data": {
      "text/html": [
       "<div>\n",
       "<style scoped>\n",
       "    .dataframe tbody tr th:only-of-type {\n",
       "        vertical-align: middle;\n",
       "    }\n",
       "\n",
       "    .dataframe tbody tr th {\n",
       "        vertical-align: top;\n",
       "    }\n",
       "\n",
       "    .dataframe thead th {\n",
       "        text-align: right;\n",
       "    }\n",
       "</style>\n",
       "<table border=\"1\" class=\"dataframe\">\n",
       "  <thead>\n",
       "    <tr style=\"text-align: right;\">\n",
       "      <th></th>\n",
       "      <th></th>\n",
       "      <th>party_nb</th>\n",
       "      <th>social_score</th>\n",
       "      <th>alcohol_unit</th>\n",
       "      <th>Class</th>\n",
       "    </tr>\n",
       "  </thead>\n",
       "  <tbody>\n",
       "    <tr>\n",
       "      <td>1</td>\n",
       "      <td>JoeIng</td>\n",
       "      <td>29</td>\n",
       "      <td>24</td>\n",
       "      <td>2</td>\n",
       "      <td>1</td>\n",
       "    </tr>\n",
       "    <tr>\n",
       "      <td>2</td>\n",
       "      <td>Bernard</td>\n",
       "      <td>55</td>\n",
       "      <td>138</td>\n",
       "      <td>12</td>\n",
       "      <td>3</td>\n",
       "    </tr>\n",
       "    <tr>\n",
       "      <td>3</td>\n",
       "      <td>Thomas</td>\n",
       "      <td>40</td>\n",
       "      <td>141</td>\n",
       "      <td>25</td>\n",
       "      <td>3</td>\n",
       "    </tr>\n",
       "    <tr>\n",
       "      <td>4</td>\n",
       "      <td>Petit</td>\n",
       "      <td>11</td>\n",
       "      <td>95</td>\n",
       "      <td>8</td>\n",
       "      <td>0</td>\n",
       "    </tr>\n",
       "    <tr>\n",
       "      <td>5</td>\n",
       "      <td>Robert</td>\n",
       "      <td>19</td>\n",
       "      <td>102</td>\n",
       "      <td>25</td>\n",
       "      <td>2</td>\n",
       "    </tr>\n",
       "    <tr>\n",
       "      <td>...</td>\n",
       "      <td>...</td>\n",
       "      <td>...</td>\n",
       "      <td>...</td>\n",
       "      <td>...</td>\n",
       "      <td>...</td>\n",
       "    </tr>\n",
       "    <tr>\n",
       "      <td>196</td>\n",
       "      <td>Lamy</td>\n",
       "      <td>11</td>\n",
       "      <td>182</td>\n",
       "      <td>17</td>\n",
       "      <td>0</td>\n",
       "    </tr>\n",
       "    <tr>\n",
       "      <td>197</td>\n",
       "      <td>Delaunay</td>\n",
       "      <td>18</td>\n",
       "      <td>84</td>\n",
       "      <td>0</td>\n",
       "      <td>1</td>\n",
       "    </tr>\n",
       "    <tr>\n",
       "      <td>198</td>\n",
       "      <td>Pasquier</td>\n",
       "      <td>23</td>\n",
       "      <td>172</td>\n",
       "      <td>21</td>\n",
       "      <td>3</td>\n",
       "    </tr>\n",
       "    <tr>\n",
       "      <td>199</td>\n",
       "      <td>Carlier</td>\n",
       "      <td>45</td>\n",
       "      <td>66</td>\n",
       "      <td>11</td>\n",
       "      <td>1</td>\n",
       "    </tr>\n",
       "    <tr>\n",
       "      <td>200</td>\n",
       "      <td>Martin</td>\n",
       "      <td>44</td>\n",
       "      <td>169</td>\n",
       "      <td>3</td>\n",
       "      <td>3</td>\n",
       "    </tr>\n",
       "  </tbody>\n",
       "</table>\n",
       "<p>200 rows × 4 columns</p>\n",
       "</div>"
      ],
      "text/plain": [
       "              party_nb  social_score  alcohol_unit  Class\n",
       "1   JoeIng          29            24             2      1\n",
       "2   Bernard         55           138            12      3\n",
       "3   Thomas          40           141            25      3\n",
       "4   Petit           11            95             8      0\n",
       "5   Robert          19           102            25      2\n",
       "...                ...           ...           ...    ...\n",
       "196 Lamy            11           182            17      0\n",
       "197 Delaunay        18            84             0      1\n",
       "198 Pasquier        23           172            21      3\n",
       "199 Carlier         45            66            11      1\n",
       "200 Martin          44           169             3      3\n",
       "\n",
       "[200 rows x 4 columns]"
      ]
     },
     "execution_count": 21,
     "metadata": {},
     "output_type": "execute_result"
    }
   ],
   "source": [
    "kmeans = KMeans(n_clusters = 4)\n",
    "kmeans.fit(dataset1_standardized)\n",
    "kmeans.predict(dataset1_standardized)\n",
    "labels = kmeans.labels_\n",
    "print(len(labels))\n",
    "dataset1['Class'] = labels \n",
    "dataset1"
   ]
  },
  {
   "cell_type": "markdown",
   "metadata": {},
   "source": [
    "## Louvain Community Detection"
   ]
  },
  {
   "cell_type": "code",
   "execution_count": 22,
   "metadata": {},
   "outputs": [],
   "source": [
    "import networkx as nx\n",
    "import matplotlib.pyplot as plt\n",
    "import community \n",
    "import numpy as np"
   ]
  },
  {
   "cell_type": "markdown",
   "metadata": {},
   "source": [
    "### Generate my data (Friends) in matrix form\n",
    "We generate 10 users to test and randomly set the value of matrix (1=friend ; 0=not friend)"
   ]
  },
  {
   "cell_type": "code",
   "execution_count": 23,
   "metadata": {},
   "outputs": [
    {
     "name": "stdout",
     "output_type": "stream",
     "text": [
      "Size of matrix :  10\n",
      "[[0. 0. 0. 0. 0. 0. 1. 0. 1. 0.]\n",
      " [1. 0. 0. 1. 1. 0. 1. 1. 0. 0.]\n",
      " [0. 1. 0. 0. 0. 0. 1. 0. 1. 0.]\n",
      " [1. 1. 0. 0. 1. 1. 0. 0. 1. 1.]\n",
      " [1. 0. 0. 1. 0. 0. 1. 1. 0. 0.]\n",
      " [0. 0. 1. 1. 0. 0. 0. 0. 0. 0.]\n",
      " [1. 1. 0. 0. 1. 1. 0. 1. 1. 0.]\n",
      " [1. 1. 0. 1. 0. 0. 0. 0. 1. 1.]\n",
      " [1. 1. 0. 0. 1. 1. 1. 0. 0. 1.]\n",
      " [0. 0. 0. 1. 1. 1. 1. 1. 1. 0.]]\n"
     ]
    }
   ],
   "source": [
    "matrix = np.zeros( (10, 10) )\n",
    "print(\"Size of matrix : \", len(matrix))\n",
    "\n",
    "for i in range (len(matrix)):\n",
    "     for j in range(len(matrix)):\n",
    "        matrix[i, i] = 0 #can't be friend with yourself\n",
    "        matrix[i, j] = np.random.randint(low=0, high=2) #randomly be friends with someone else \n",
    "        \n",
    "print(matrix)"
   ]
  },
  {
   "cell_type": "markdown",
   "metadata": {},
   "source": [
    "### Draw the graph from the matrix"
   ]
  },
  {
   "cell_type": "code",
   "execution_count": 26,
   "metadata": {},
   "outputs": [
    {
     "name": "stdout",
     "output_type": "stream",
     "text": [
      "Number of nodes :  10\n"
     ]
    },
    {
     "data": {
      "image/png": "[encoded data removed]",
      "text/plain": [
       "<Figure size 432x288 with 1 Axes>"
      ]
     },
     "metadata": {},
     "output_type": "display_data"
    }
   ],
   "source": [
    "graphPACT = nx.Graph()\n",
    "\n",
    "for i in range (len(matrix)):\n",
    "     for j in range(len(matrix)):\n",
    "            if(matrix[i,j] == 1):\n",
    "                graphPACT.add_edges_from([(i, j)])\n",
    "\n",
    "print(\"Number of nodes : \",graphPACT.number_of_nodes())\n",
    "\n",
    "nx.draw(graphPACT, with_labels=True)\n",
    "plt.show;"
   ]
  },
  {
   "cell_type": "markdown",
   "metadata": {},
   "source": [
    "### Compute the best partition"
   ]
  },
  {
   "cell_type": "code",
   "execution_count": 25,
   "metadata": {},
   "outputs": [
    {
     "name": "stdout",
     "output_type": "stream",
     "text": [
      "Community of  0  :  0\n",
      "Community of  6  :  0\n",
      "Community of  8  :  1\n",
      "Community of  1  :  0\n",
      "Community of  3  :  1\n",
      "Community of  4  :  0\n",
      "Community of  7  :  0\n",
      "Community of  2  :  1\n",
      "Community of  5  :  1\n",
      "Community of  9  :  1\n"
     ]
    }
   ],
   "source": [
    "partitionPACT = community.best_partition(graphPACT)\n",
    "\n",
    "for k in partitionPACT :\n",
    "    print(\"Community of \",k ,\" : \", partitionPACT[k])\n",
    "    \n",
    "#print(partitionPACT)"
   ]
  }
 ],
 "metadata": {
  "kernelspec": {
   "display_name": "Python 3",
   "language": "python",
   "name": "python3"
  },
  "language_info": {
   "codemirror_mode": {
    "name": "ipython",
    "version": 3
   },
   "file_extension": ".py",
   "mimetype": "text/x-python",
   "name": "python",
   "nbconvert_exporter": "python",
   "pygments_lexer": "ipython3",
   "version": "3.7.4"
  }
 },
 "nbformat": 4,
 "nbformat_minor": 2
}
